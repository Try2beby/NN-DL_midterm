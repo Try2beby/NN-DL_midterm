{
 "cells": [
  {
   "cell_type": "code",
   "execution_count": 1,
   "metadata": {},
   "outputs": [],
   "source": [
    "from main import (\n",
    "    BirdClassificationCNN,\n",
    "    CUB200,\n",
    "    dataDir,\n",
    "    transform,\n",
    "    DataLoader,\n",
    "    train_loader,\n",
    "    test_loader,\n",
    "    val_loader,\n",
    ")"
   ]
  },
  {
   "cell_type": "code",
   "execution_count": 2,
   "metadata": {},
   "outputs": [
    {
     "name": "stdout",
     "output_type": "stream",
     "text": [
      "Load weights from pretrained model\n"
     ]
    }
   ],
   "source": [
    "model = BirdClassificationCNN()\n",
    "# model.read_model(\"./cache/model_0.001_False_0.9_0.001_1/0.001_False_0.9_0.001_1_45.pt\")\n",
    "model.read_model(\"./cache/25_0.7723507076285813.pth\")"
   ]
  },
  {
   "cell_type": "code",
   "execution_count": 3,
   "metadata": {},
   "outputs": [
    {
     "name": "stdout",
     "output_type": "stream",
     "text": [
      "5994 5766\n",
      "5794 658\n",
      "Accuracy of the network on the 5994 train data: 96.20 %\n",
      "Accuracy of the network on the 5794 val data: 11.36 %\n"
     ]
    },
    {
     "data": {
      "text/plain": [
       "{'train': {'accuracy': 0.9619619619619619, 'loss': 0.2534125042643319},\n",
       " 'val': {'accuracy': 0.113565757680359, 'loss': 5.802917439858992}}"
      ]
     },
     "execution_count": 3,
     "metadata": {},
     "output_type": "execute_result"
    }
   ],
   "source": [
    "model.evaluate_on_train_and_val()"
   ]
  },
  {
   "cell_type": "code",
   "execution_count": 4,
   "metadata": {},
   "outputs": [
    {
     "name": "stdout",
     "output_type": "stream",
     "text": [
      "5794 658\n"
     ]
    },
    {
     "data": {
      "text/plain": [
       "(0.113565757680359, 5.802917439858992)"
      ]
     },
     "execution_count": 4,
     "metadata": {},
     "output_type": "execute_result"
    }
   ],
   "source": [
    "model.evaluate(test_loader)"
   ]
  },
  {
   "cell_type": "code",
   "execution_count": 5,
   "metadata": {},
   "outputs": [
    {
     "name": "stdout",
     "output_type": "stream",
     "text": [
      "5794 658\n"
     ]
    },
    {
     "data": {
      "text/plain": [
       "(0.113565757680359, 5.802917439858992)"
      ]
     },
     "execution_count": 5,
     "metadata": {},
     "output_type": "execute_result"
    }
   ],
   "source": [
    "model.evaluate(val_loader)"
   ]
  }
 ],
 "metadata": {
  "kernelspec": {
   "display_name": "cv",
   "language": "python",
   "name": "python3"
  },
  "language_info": {
   "codemirror_mode": {
    "name": "ipython",
    "version": 3
   },
   "file_extension": ".py",
   "mimetype": "text/x-python",
   "name": "python",
   "nbconvert_exporter": "python",
   "pygments_lexer": "ipython3",
   "version": "3.10.14"
  }
 },
 "nbformat": 4,
 "nbformat_minor": 2
}
