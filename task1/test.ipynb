{
 "cells": [
  {
   "cell_type": "code",
   "execution_count": 1,
   "metadata": {},
   "outputs": [],
   "source": [
    "from main import BirdClassificationCNN, CUB200, dataDir, transform, DataLoader"
   ]
  },
  {
   "cell_type": "code",
   "execution_count": 2,
   "metadata": {},
   "outputs": [],
   "source": [
    "test_dataset = CUB200(root_dir=dataDir, subset=\"test\", transform=transform)\n",
    "test_loader = DataLoader(test_dataset, batch_size=32, shuffle=False, num_workers=4)"
   ]
  },
  {
   "cell_type": "code",
   "execution_count": 2,
   "metadata": {},
   "outputs": [
    {
     "name": "stdout",
     "output_type": "stream",
     "text": [
      "Load weights from pretrained model\n"
     ]
    }
   ],
   "source": [
    "model = BirdClassificationCNN()"
   ]
  },
  {
   "cell_type": "code",
   "execution_count": 10,
   "metadata": {},
   "outputs": [],
   "source": [
    "# Get the parameters of the fc layer\n",
    "fc_params = list(model.resnet.fc.parameters())\n",
    "fc_params_ids = {id(p) for p in fc_params}\n",
    "\n",
    "# Get the parameters of the other layers\n",
    "base_params = [p for p in model.parameters() if id(p) not in fc_params_ids]"
   ]
  },
  {
   "cell_type": "code",
   "execution_count": 4,
   "metadata": {},
   "outputs": [
    {
     "data": {
      "text/plain": [
       "[Parameter containing:\n",
       " tensor([[-0.0438, -0.0365, -0.0121,  ...,  0.0008, -0.0030,  0.0134],\n",
       "         [-0.0228,  0.0411,  0.0134,  ..., -0.0061, -0.0201,  0.0308],\n",
       "         [-0.0211, -0.0061, -0.0047,  ..., -0.0042, -0.0265,  0.0344],\n",
       "         ...,\n",
       "         [-0.0089, -0.0368, -0.0247,  ...,  0.0017,  0.0324,  0.0118],\n",
       "         [-0.0369,  0.0051,  0.0260,  ...,  0.0341,  0.0145,  0.0249],\n",
       "         [-0.0378,  0.0261, -0.0076,  ..., -0.0089,  0.0149, -0.0005]],\n",
       "        requires_grad=True),\n",
       " Parameter containing:\n",
       " tensor([-0.0323,  0.0007, -0.0105, -0.0234, -0.0306, -0.0227,  0.0364,  0.0307,\n",
       "          0.0421, -0.0042,  0.0092,  0.0079,  0.0338,  0.0099, -0.0123, -0.0216,\n",
       "         -0.0289,  0.0118,  0.0173, -0.0144, -0.0147,  0.0127,  0.0030, -0.0232,\n",
       "          0.0150, -0.0135, -0.0300,  0.0248, -0.0218,  0.0021,  0.0133, -0.0336,\n",
       "          0.0068,  0.0201, -0.0315, -0.0361,  0.0269, -0.0408, -0.0348, -0.0382,\n",
       "          0.0132,  0.0080,  0.0056, -0.0149, -0.0066,  0.0117,  0.0390,  0.0402,\n",
       "         -0.0187, -0.0195, -0.0327, -0.0116,  0.0217, -0.0305,  0.0191,  0.0307,\n",
       "          0.0021,  0.0084, -0.0137,  0.0334,  0.0326,  0.0364,  0.0377, -0.0136,\n",
       "         -0.0426, -0.0153,  0.0126, -0.0277, -0.0119, -0.0257,  0.0389,  0.0315,\n",
       "          0.0245, -0.0307, -0.0420,  0.0005, -0.0043, -0.0196,  0.0382,  0.0212,\n",
       "         -0.0059, -0.0423, -0.0152,  0.0072, -0.0295, -0.0438,  0.0218,  0.0137,\n",
       "         -0.0375, -0.0024,  0.0085, -0.0354,  0.0376, -0.0331, -0.0377, -0.0310,\n",
       "         -0.0407, -0.0173, -0.0325,  0.0350, -0.0415, -0.0272, -0.0007, -0.0087,\n",
       "          0.0151,  0.0159,  0.0113, -0.0338,  0.0042, -0.0162,  0.0138,  0.0166,\n",
       "          0.0420,  0.0409, -0.0311,  0.0140,  0.0406, -0.0032, -0.0315, -0.0426,\n",
       "         -0.0060, -0.0382,  0.0131, -0.0086,  0.0307,  0.0116,  0.0045, -0.0233,\n",
       "         -0.0413,  0.0278, -0.0339,  0.0371, -0.0230, -0.0026,  0.0231,  0.0297,\n",
       "         -0.0087, -0.0408, -0.0086, -0.0157,  0.0116, -0.0286,  0.0306,  0.0107,\n",
       "          0.0423,  0.0231,  0.0313,  0.0152, -0.0201,  0.0169, -0.0212, -0.0261,\n",
       "         -0.0257, -0.0229, -0.0347, -0.0275, -0.0137, -0.0293, -0.0028,  0.0294,\n",
       "         -0.0223, -0.0074,  0.0018,  0.0025, -0.0144,  0.0104, -0.0329,  0.0147,\n",
       "         -0.0115, -0.0357, -0.0336, -0.0226,  0.0163, -0.0268,  0.0183, -0.0166,\n",
       "          0.0125,  0.0152,  0.0356,  0.0109, -0.0242,  0.0317, -0.0356, -0.0163,\n",
       "         -0.0018, -0.0248, -0.0417, -0.0431, -0.0019, -0.0103,  0.0438, -0.0014,\n",
       "          0.0103,  0.0112, -0.0217, -0.0155, -0.0239, -0.0072, -0.0256,  0.0133],\n",
       "        requires_grad=True)]"
      ]
     },
     "execution_count": 4,
     "metadata": {},
     "output_type": "execute_result"
    }
   ],
   "source": [
    "fc_params"
   ]
  },
  {
   "cell_type": "code",
   "execution_count": 6,
   "metadata": {},
   "outputs": [
    {
     "data": {
      "text/plain": [
       "(0.10338280980324474, 5.309817962594085)"
      ]
     },
     "execution_count": 6,
     "metadata": {},
     "output_type": "execute_result"
    }
   ],
   "source": [
    "model.evaluate(test_loader)"
   ]
  }
 ],
 "metadata": {
  "kernelspec": {
   "display_name": "cv",
   "language": "python",
   "name": "python3"
  },
  "language_info": {
   "codemirror_mode": {
    "name": "ipython",
    "version": 3
   },
   "file_extension": ".py",
   "mimetype": "text/x-python",
   "name": "python",
   "nbconvert_exporter": "python",
   "pygments_lexer": "ipython3",
   "version": "3.10.14"
  }
 },
 "nbformat": 4,
 "nbformat_minor": 2
}
