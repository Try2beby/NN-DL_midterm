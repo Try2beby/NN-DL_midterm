{
 "cells": [
  {
   "cell_type": "code",
   "execution_count": 1,
   "metadata": {},
   "outputs": [],
   "source": [
    "from main import BirdClassificationCNN"
   ]
  },
  {
   "cell_type": "code",
   "execution_count": 2,
   "metadata": {},
   "outputs": [],
   "source": [
    "model = BirdClassificationCNN()\n",
    "model.read_model(\"./cache/test.pth\")"
   ]
  },
  {
   "cell_type": "code",
   "execution_count": 3,
   "metadata": {},
   "outputs": [
    {
     "name": "stdout",
     "output_type": "stream",
     "text": [
      "Accuracy of the network on the 5994 train data: 87.75 %\n",
      "Accuracy of the network on the 2897 val data: 61.10 %\n"
     ]
    },
    {
     "data": {
      "text/plain": [
       "{'train': {'accuracy': 0.8775442108775442, 'loss': 1.100597139368666},\n",
       " 'val': {'accuracy': 0.6109768726268554, 'loss': 1.8905457087925501}}"
      ]
     },
     "execution_count": 3,
     "metadata": {},
     "output_type": "execute_result"
    }
   ],
   "source": [
    "model.evaluate_on_train_and_val()"
   ]
  },
  {
   "cell_type": "code",
   "execution_count": 1,
   "metadata": {},
   "outputs": [
    {
     "name": "stdout",
     "output_type": "stream",
     "text": [
      "Looking in indexes: https://mirrors.aliyun.com/pypi/simple/\n",
      "Collecting decompyle3\n",
      "  Downloading https://mirrors.aliyun.com/pypi/packages/db/32/c78ae45e8997b8538da6e8e7cc3659b62815b02a273b90d9140b6f99f63f/decompyle3-3.9.1-py3-none-any.whl (257 kB)\n",
      "\u001b[2K     \u001b[90m━━━━━━━━━━━━━━━━━━━━━━━━━━━━━━━━━━━━━━━\u001b[0m \u001b[32m257.4/257.4 kB\u001b[0m \u001b[31m1.4 MB/s\u001b[0m eta \u001b[36m0:00:00\u001b[0ma \u001b[36m0:00:01\u001b[0m\n",
      "\u001b[?25hRequirement already satisfied: click in /data/twh/miniconda3/envs/cv/lib/python3.10/site-packages (from decompyle3) (8.1.7)\n",
      "Collecting spark-parser<1.9.0,>=1.8.9 (from decompyle3)\n",
      "  Downloading https://mirrors.aliyun.com/pypi/packages/e1/c3/745adc57618998882a6e120cedebfba6ebf76aa9052c8b89e49c0fe47c2e/spark_parser-1.8.9-py3-none-any.whl (17 kB)\n",
      "Collecting xdis<6.2.0,>=6.0.8 (from decompyle3)\n",
      "  Downloading https://mirrors.aliyun.com/pypi/packages/b9/a8/c3430daf90c3f2c791d145f05d5928878406b04b0c5e367eb87461112f9d/xdis-6.1.0-py3-none-any.whl (169 kB)\n",
      "\u001b[2K     \u001b[90m━━━━━━━━━━━━━━━━━━━━━━━━━━━━━━━━━━━━━━━\u001b[0m \u001b[32m169.2/169.2 kB\u001b[0m \u001b[31m3.3 MB/s\u001b[0m eta \u001b[36m0:00:00\u001b[0ma \u001b[36m0:00:01\u001b[0m\n",
      "\u001b[?25hRequirement already satisfied: pygments in /data/twh/miniconda3/envs/cv/lib/python3.10/site-packages (from xdis<6.2.0,>=6.0.8->decompyle3) (2.18.0)\n",
      "Collecting term-background>=1.0.1 (from xdis<6.2.0,>=6.0.8->decompyle3)\n",
      "  Downloading https://mirrors.aliyun.com/pypi/packages/59/72/4af08d7f5b7a4168b987541f6a81ef3531195743eb0c9056f0cfad54aa28/term_background-1.0.1-py3-none-any.whl (11 kB)\n",
      "Requirement already satisfied: six>=1.10.0 in /data/twh/miniconda3/envs/cv/lib/python3.10/site-packages (from xdis<6.2.0,>=6.0.8->decompyle3) (1.16.0)\n",
      "Installing collected packages: term-background, spark-parser, xdis, decompyle3\n",
      "Successfully installed decompyle3-3.9.1 spark-parser-1.8.9 term-background-1.0.1 xdis-6.1.0\n",
      "Note: you may need to restart the kernel to use updated packages.\n"
     ]
    }
   ],
   "source": [
    "%pip install decompyle3"
   ]
  }
 ],
 "metadata": {
  "kernelspec": {
   "display_name": "cv",
   "language": "python",
   "name": "python3"
  },
  "language_info": {
   "codemirror_mode": {
    "name": "ipython",
    "version": 3
   },
   "file_extension": ".py",
   "mimetype": "text/x-python",
   "name": "python",
   "nbconvert_exporter": "python",
   "pygments_lexer": "ipython3",
   "version": "3.11.5"
  }
 },
 "nbformat": 4,
 "nbformat_minor": 2
}
